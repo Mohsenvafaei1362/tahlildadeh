{
 "cells": [
  {
   "cell_type": "code",
   "execution_count": null,
   "metadata": {},
   "outputs": [
    {
     "name": "stdout",
     "output_type": "stream",
     "text": [
      "r\n",
      "r\n",
      "r\n",
      "w\n",
      "t\n"
     ]
    }
   ],
   "source": [
    "# 1\n",
    "while True:\n",
    "    text = input(\"please enter text...\")\n",
    "    if text == \"q\":\n",
    "        break\n",
    "    print(text)"
   ]
  },
  {
   "cell_type": "code",
   "execution_count": null,
   "metadata": {},
   "outputs": [
    {
     "name": "stdout",
     "output_type": "stream",
     "text": [
      "max :  68\n",
      "min :  2\n"
     ]
    }
   ],
   "source": [
    "# 2\n",
    "max = 0\n",
    "min = int(input(\"please enter number...\"))\n",
    "for i in range(5):\n",
    "    number = int(input(\"please enter number...\"))\n",
    "    if max < number:\n",
    "        max = number\n",
    "    if min > number:\n",
    "        min = number\n",
    "print(\"max : \", max)\n",
    "print(\"min : \", min)"
   ]
  },
  {
   "cell_type": "code",
   "execution_count": null,
   "metadata": {},
   "outputs": [
    {
     "name": "stdout",
     "output_type": "stream",
     "text": [
      "2\n",
      "4\n",
      "6\n",
      "8\n",
      "10\n",
      "12\n",
      "14\n",
      "16\n",
      "18\n",
      "20\n"
     ]
    }
   ],
   "source": [
    "# 3\n",
    "for i in range(1, 21):\n",
    "    if i % 2 == 1:\n",
    "        continue\n",
    "    print(i)"
   ]
  },
  {
   "cell_type": "code",
   "execution_count": null,
   "metadata": {},
   "outputs": [
    {
     "name": "stdout",
     "output_type": "stream",
     "text": [
      "1\n",
      "2\n",
      "4\n",
      "5\n",
      "7\n",
      "8\n",
      "10\n",
      "11\n",
      "13\n",
      "14\n",
      "16\n",
      "17\n",
      "19\n",
      "20\n",
      "22\n",
      "23\n",
      "25\n",
      "26\n",
      "28\n",
      "29\n"
     ]
    }
   ],
   "source": [
    "# 4\n",
    "for i in range(1, 31):\n",
    "    if i % 3 == 0:\n",
    "        continue\n",
    "    print(i)"
   ]
  },
  {
   "cell_type": "code",
   "execution_count": null,
   "metadata": {},
   "outputs": [
    {
     "name": "stdout",
     "output_type": "stream",
     "text": [
      "i\n"
     ]
    }
   ],
   "source": [
    "# 5\n",
    "vowels = \"aeiou\"\n",
    "text = input(\"please enter text...\")\n",
    "for char in text:\n",
    "    if char in vowels:\n",
    "        print(char)"
   ]
  },
  {
   "cell_type": "code",
   "execution_count": 88,
   "metadata": {},
   "outputs": [
    {
     "name": "stdout",
     "output_type": "stream",
     "text": [
      "17\n",
      "27\n",
      "37\n",
      "47\n",
      "57\n",
      "67\n",
      "77\n",
      "87\n",
      "97\n"
     ]
    }
   ],
   "source": [
    "# 6\n",
    "for i in range(10, 101):\n",
    "    if i % 10 == 7:\n",
    "        print(i)"
   ]
  },
  {
   "cell_type": "code",
   "execution_count": null,
   "metadata": {},
   "outputs": [
    {
     "name": "stdout",
     "output_type": "stream",
     "text": [
      "پیدا نشد\n"
     ]
    }
   ],
   "source": [
    "# 7\n",
    "number = int(input(\"please enter number...\"))\n",
    "for i in range(1, 51):\n",
    "    if i == number:\n",
    "        print(\"پیداشد\")\n",
    "        break\n",
    "    if i != number and i == 50:\n",
    "        print(\"پیدا نشد\")"
   ]
  },
  {
   "cell_type": "code",
   "execution_count": null,
   "metadata": {},
   "outputs": [
    {
     "name": "stdout",
     "output_type": "stream",
     "text": [
      "1\n",
      "2\n",
      "12\n",
      "96\n",
      "864\n",
      "1728\n"
     ]
    }
   ],
   "source": [
    "# 8\n",
    "num = [1, 2, 6, 8, 9, 2]\n",
    "s = 1\n",
    "for i in num:\n",
    "    s *= i\n",
    "    print(s)"
   ]
  },
  {
   "cell_type": "code",
   "execution_count": null,
   "metadata": {},
   "outputs": [
    {
     "name": "stdout",
     "output_type": "stream",
     "text": [
      "[1]\n",
      "[1, 2]\n",
      "[1, 2, 5]\n",
      "number duplicate 5\n",
      "[1, 2, 5]\n",
      "number duplicate 1\n",
      "[1, 2, 5]\n",
      "[1, 2, 5, 3]\n",
      "number duplicate 3\n",
      "[1, 2, 5, 3]\n",
      "number duplicate 1\n",
      "[1, 2, 5, 3]\n",
      "[1, 2, 5, 3, 4]\n",
      "number duplicate 4\n",
      "[1, 2, 5, 3, 4]\n"
     ]
    }
   ],
   "source": [
    "# 9\n",
    "num = [1, 2, 5, 5, 1, 3, 3, 1, 4, 4]\n",
    "d = 0\n",
    "dub = []\n",
    "for n in num:\n",
    "    if n in dub:\n",
    "        print(\"number duplicate\", n)\n",
    "    else:\n",
    "        dub.append(n)\n",
    "    print(dub)"
   ]
  },
  {
   "cell_type": "code",
   "execution_count": null,
   "metadata": {},
   "outputs": [
    {
     "name": "stdout",
     "output_type": "stream",
     "text": [
      "[4, 5]\n"
     ]
    }
   ],
   "source": [
    "# 10\n",
    "list1 = [1, 2, 3, 4, 5]\n",
    "list2 = [4, 5, 6, 7, 8]\n",
    "common_items = []\n",
    "for i in list1:\n",
    "    if i in list2:\n",
    "        common_items.append(i)\n",
    "print(common_items)"
   ]
  },
  {
   "cell_type": "code",
   "execution_count": null,
   "metadata": {},
   "outputs": [
    {
     "name": "stdout",
     "output_type": "stream",
     "text": [
      "[3, 5, 9, 15, 21, 25, 27, 33, 35, 39, 45]\n",
      "[1, 3, 5, 7, 9, 11, 13, 15, 17, 19, 21, 23, 25, 27, 29, 31, 33, 35, 37, 39, 41, 43, 45, 47, 49, 3, 5, 9, 15, 21, 25, 27, 33, 35, 39, 45]\n"
     ]
    }
   ],
   "source": [
    "# 11\n",
    "odd = []\n",
    "a = []\n",
    "for i in range(51):\n",
    "    if i % 2 == 1:\n",
    "        odd.append(i)\n",
    "        if i % 3 == 0 or i % 5 == 0:\n",
    "            a.append(i)\n",
    "for i in a:\n",
    "    odd.append(i)\n",
    "print(a)\n",
    "print(odd)"
   ]
  }
 ],
 "metadata": {
  "kernelspec": {
   "display_name": "Python 3",
   "language": "python",
   "name": "python3"
  },
  "language_info": {
   "codemirror_mode": {
    "name": "ipython",
    "version": 3
   },
   "file_extension": ".py",
   "mimetype": "text/x-python",
   "name": "python",
   "nbconvert_exporter": "python",
   "pygments_lexer": "ipython3",
   "version": "3.10.11"
  }
 },
 "nbformat": 4,
 "nbformat_minor": 2
}
