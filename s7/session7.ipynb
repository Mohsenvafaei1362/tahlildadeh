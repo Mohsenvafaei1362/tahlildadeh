{
 "cells": [
  {
   "cell_type": "code",
   "execution_count": 1,
   "metadata": {},
   "outputs": [
    {
     "name": "stdout",
     "output_type": "stream",
     "text": [
      "{'a': 200, 'c': 700, 'b': 400}\n"
     ]
    }
   ],
   "source": [
    "dict1 = {\"a\": 100, \"b\": 200, \"c\": 300}\n",
    "dict2 = {\"a\": 100, \"b\": 200, \"c\": 400}\n",
    "merged_dict = {}\n",
    "\n",
    "for key in dict1.keys() | dict2.keys():\n",
    "    merged_dict[key] = dict1.get(key, 0) + dict2.get(key, 0)\n",
    "\n",
    "print(merged_dict)"
   ]
  },
  {
   "cell_type": "code",
   "execution_count": 10,
   "metadata": {},
   "outputs": [
    {
     "name": "stdout",
     "output_type": "stream",
     "text": [
      "{25, 2, 30, 22}\n"
     ]
    }
   ],
   "source": [
    "people = [(\"Ali\", 25), (\"Fateme\", 30), (\"Mohammad\", 2), (\"Zahra\", 22), (\"Reza\", 30)]\n",
    "unique_ages = set()\n",
    "for name, age in people:\n",
    "    unique_ages.add(age)\n",
    "\n",
    "print(unique_ages)"
   ]
  },
  {
   "cell_type": "code",
   "execution_count": 11,
   "metadata": {},
   "outputs": [
    {
     "name": "stdout",
     "output_type": "stream",
     "text": [
      "{25: 1, 30: 2, 2: 1, 22: 1}\n"
     ]
    }
   ],
   "source": [
    "age_count = {}\n",
    "\n",
    "for name, age in people:\n",
    "    if age in age_count:\n",
    "        age_count[age] += 1\n",
    "    else:\n",
    "        age_count[age] = 1\n",
    "\n",
    "\n",
    "print(age_count)"
   ]
  },
  {
   "cell_type": "code",
   "execution_count": null,
   "metadata": {},
   "outputs": [
    {
     "name": "stdout",
     "output_type": "stream",
     "text": [
      "['Mohammad', 'Zahra', 'Ali', 'Fateme', 'Reza']\n"
     ]
    }
   ],
   "source": [
    "sorted_people = sorted(people, key=lambda x: x[1])\n",
    "\n",
    "names_sorted_by_age = [name for name, age in sorted_people]\n",
    "\n",
    "print(names_sorted_by_age)"
   ]
  }
 ],
 "metadata": {
  "kernelspec": {
   "display_name": "Python 3",
   "language": "python",
   "name": "python3"
  },
  "language_info": {
   "codemirror_mode": {
    "name": "ipython",
    "version": 3
   },
   "file_extension": ".py",
   "mimetype": "text/x-python",
   "name": "python",
   "nbconvert_exporter": "python",
   "pygments_lexer": "ipython3",
   "version": "3.10.11"
  }
 },
 "nbformat": 4,
 "nbformat_minor": 2
}
