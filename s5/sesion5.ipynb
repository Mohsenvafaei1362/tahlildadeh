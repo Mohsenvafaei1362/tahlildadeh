{
 "cells": [
  {
   "cell_type": "code",
   "execution_count": 2,
   "metadata": {},
   "outputs": [
    {
     "name": "stdout",
     "output_type": "stream",
     "text": [
      "[8, 8, 8, 7, 9, 6, 4, 3, 2, 5, 8, 8]\n",
      "[8, 8, 7, 9, 6, 4, 3, 2, 5, 8, 8]\n",
      "[8, 7, 9, 6, 4, 3, 2, 5, 8, 8]\n"
     ]
    }
   ],
   "source": [
    "numbers = [5,8,8,8,7,9,6,4,3,2,5,8,8]\n",
    "for i in numbers:\n",
    "    if numbers.count(i) > 1:\n",
    "        numbers.remove(i)\n",
    "        print(numbers)"
   ]
  },
  {
   "cell_type": "code",
   "execution_count": 7,
   "metadata": {},
   "outputs": [
    {
     "name": "stdout",
     "output_type": "stream",
     "text": [
      "[5, 4, 7]\n",
      "[5, 4, 7, 8]\n",
      "1750033518528\n",
      "1750033518528\n"
     ]
    }
   ],
   "source": [
    "a = [5,4,7]\n",
    "b = a\n",
    "print(b)\n",
    "a.append(8)\n",
    "print(b)\n",
    "print(id(a))\n",
    "print(id(b))"
   ]
  },
  {
   "cell_type": "code",
   "execution_count": 8,
   "metadata": {},
   "outputs": [
    {
     "name": "stdout",
     "output_type": "stream",
     "text": [
      "20\n",
      "20\n",
      "1749964293104\n",
      "1749964292944\n"
     ]
    }
   ],
   "source": [
    "c =20\n",
    "d = c\n",
    "print(d)\n",
    "c= 25\n",
    "print(d)\n",
    "print(id(c))\n",
    "print(id(d))"
   ]
  },
  {
   "cell_type": "code",
   "execution_count": 12,
   "metadata": {},
   "outputs": [
    {
     "name": "stdout",
     "output_type": "stream",
     "text": [
      "[5, 4, [90, 10], 3]\n",
      "[5, 4, [90, 10, 100], 3, 20]\n"
     ]
    }
   ],
   "source": [
    "t = [5,4,[90,10],3]\n",
    "f = t.copy()\n",
    "print(f)\n",
    "t.append(20)\n",
    "t[2].append(100)\n",
    "f = t.copy()\n",
    "print(f)"
   ]
  },
  {
   "cell_type": "code",
   "execution_count": null,
   "metadata": {},
   "outputs": [
    {
     "name": "stdout",
     "output_type": "stream",
     "text": [
      "[5, 4, [90, 10, 100], 3, 20]\n"
     ]
    }
   ],
   "source": [
    "import copy\n",
    "f = copy.deepcopy(t) # ای دی هم عوض میشه\n",
    "print(f)"
   ]
  }
 ],
 "metadata": {
  "kernelspec": {
   "display_name": "Python 3",
   "language": "python",
   "name": "python3"
  },
  "language_info": {
   "codemirror_mode": {
    "name": "ipython",
    "version": 3
   },
   "file_extension": ".py",
   "mimetype": "text/x-python",
   "name": "python",
   "nbconvert_exporter": "python",
   "pygments_lexer": "ipython3",
   "version": "3.10.11"
  }
 },
 "nbformat": 4,
 "nbformat_minor": 2
}
