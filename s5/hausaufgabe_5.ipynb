{
 "cells": [
  {
   "cell_type": "code",
   "execution_count": null,
   "metadata": {},
   "outputs": [
    {
     "name": "stdout",
     "output_type": "stream",
     "text": [
      "[1, 12, 16, 30]\n",
      "[32, 80, 15, 20, 8, 5, 19]\n"
     ]
    }
   ],
   "source": [
    "# 1\n",
    "l1 = [1, 30, 8, 5, 19, 12, 16]\n",
    "l2 = [1, 32, 80, 15, 20, 12, 16, 30]\n",
    "common = []\n",
    "uniq = []\n",
    "for i1 in l2:\n",
    "    if i1 not in l1:\n",
    "        uniq.append(i1)\n",
    "    if i1 in l1:\n",
    "        common.append(i1)\n",
    "for i2 in l1:\n",
    "    if i2 not in l2 and i2 not in uniq:\n",
    "        uniq.append(i2)\n",
    "    if i2 in l2 and i2 not in common:\n",
    "        common.append(i2)\n",
    "\n",
    "\n",
    "print(common)\n",
    "print(uniq)"
   ]
  },
  {
   "cell_type": "code",
   "execution_count": 2,
   "metadata": {},
   "outputs": [
    {
     "name": "stdout",
     "output_type": "stream",
     "text": [
      "not sorted\n"
     ]
    }
   ],
   "source": [
    "# 2\n",
    "# l1 = [1, 2, 3, 4, 5, 6, 7]\n",
    "l1 = [1, 2, 1, 3, 4, 5, 6, 7, 8, 9, 2]\n",
    "\n",
    "for i in range(len(l1) - 1):\n",
    "    if l1[i] > l1[i + 1]:\n",
    "        print(\"not sorted\")\n",
    "        break\n",
    "    else:\n",
    "\n",
    "        if i + 1 == len(l1) - 1:\n",
    "            print(\"sorted\")"
   ]
  },
  {
   "cell_type": "code",
   "execution_count": 3,
   "metadata": {},
   "outputs": [
    {
     "data": {
      "text/plain": [
       "False"
      ]
     },
     "execution_count": 3,
     "metadata": {},
     "output_type": "execute_result"
    }
   ],
   "source": [
    "sorted(l1) == l1"
   ]
  },
  {
   "cell_type": "code",
   "execution_count": null,
   "metadata": {},
   "outputs": [
    {
     "name": "stdout",
     "output_type": "stream",
     "text": [
      "['yello', 'hello', 'yello', 'mello', 'mello', 'yello', 'mello', 'yello', 'mello', 'hallo', 'mello', 'mello', 'yello', 'hallo', 'hallo', 'hallo', 'hallo', 'yello', 'hello', 'yello', 'hello', 'yello', 'hello', 'mello', 'hello', 'hello', 'hello', 'hello', 'hallo', 'hallo', 'yello', 'mello', 'mello', 'hallo', 'yello', 'hello', 'mello', 'hello', 'hallo', 'yello', 'hello', 'yello', 'hello', 'hello', 'yello', 'yello', 'hallo', 'mello', 'yello', 'hallo', 'hello', 'mello', 'hello', 'hallo', 'hello', 'hallo', 'yello', 'yello', 'hallo', 'hallo', 'hallo', 'hallo', 'hallo', 'mello', 'hallo', 'hallo', 'hallo', 'hallo', 'hallo', 'mello', 'hallo', 'mello', 'yello', 'hallo', 'yello', 'hello', 'hello', 'hallo', 'yello', 'mello', 'mello', 'hello', 'yello', 'hello', 'yello', 'hallo', 'hallo', 'mello', 'hello', 'hello', 'hello', 'hallo', 'yello', 'mello', 'hallo', 'hallo', 'mello', 'hallo', 'hallo', 'hello', 'yello']\n"
     ]
    }
   ],
   "source": [
    "# 3\n",
    "import random\n",
    "\n",
    "l = []\n",
    "item = [\"yello\", \"hello\", \"hallo\", \"mello\"]\n",
    "for i in range(101):\n",
    "    l.append(random.choice(item))\n",
    "print(l)"
   ]
  },
  {
   "cell_type": "code",
   "execution_count": null,
   "metadata": {},
   "outputs": [
    {
     "name": "stdout",
     "output_type": "stream",
     "text": [
      "['hello', 'hello', 'hello', 'hello', 'hello', 'hello', 'hello', 'hello', 'hello', 'hello', 'hello', 'hello', 'hello', 'hello', 'hello', 'hello', 'hallo', 'hallo', 'hallo', 'hallo', 'hallo', 'hello', 'hello', 'hallo', 'hello', 'hello', 'hallo', 'hallo', 'hello', 'hello', 'hello', 'hallo', 'mello', 'hallo', 'hallo', 'mello', 'hallo', 'hallo', 'hello']\n"
     ]
    }
   ],
   "source": [
    "# 4\n",
    "for i in l:\n",
    "    if i == \"yello\" or i == \"mello\" or i == \"hallo\":\n",
    "        l.remove(i)\n",
    "print(l)"
   ]
  },
  {
   "cell_type": "code",
   "execution_count": 6,
   "metadata": {},
   "outputs": [
    {
     "name": "stdout",
     "output_type": "stream",
     "text": [
      "{'milk': 5, 'suger': 2, 'butter': 10, 'yogurt': 1, 'cheese': 3}\n"
     ]
    }
   ],
   "source": [
    "# 5\n",
    "l1 = [\"milk\", \"suger\", \"butter\", \"yogurt\", \"cheese\"]\n",
    "l2 = [5, 2, 10, 1, 3]\n",
    "dic = {}\n",
    "\n",
    "for i in range(len(l1)):\n",
    "    dic.setdefault(l1[i], l2[i])\n",
    "print(dic)"
   ]
  },
  {
   "cell_type": "code",
   "execution_count": null,
   "metadata": {},
   "outputs": [
    {
     "name": "stdout",
     "output_type": "stream",
     "text": [
      "{'milk': 5, 'suger': 2, 'butter': 10, 'yogurt': 1, 'cheese': 3}\n"
     ]
    }
   ],
   "source": [
    "# enumerate شمارنده\n",
    "l1 = [\"milk\", \"suger\", \"butter\", \"yogurt\", \"cheese\"]\n",
    "l2 = [5, 2, 10, 1, 3]\n",
    "dic = {}\n",
    "for i, item in enumerate(l1):\n",
    "    dic[item] = l2[i]\n",
    "print(dic)"
   ]
  },
  {
   "cell_type": "code",
   "execution_count": null,
   "metadata": {},
   "outputs": [
    {
     "name": "stdout",
     "output_type": "stream",
     "text": [
      "10\n",
      "1\n"
     ]
    }
   ],
   "source": [
    "# 6\n",
    "_values = []\n",
    "mx = 0\n",
    "mi = 0\n",
    "for i in l1:\n",
    "    _values.append(dic[i])\n",
    "    mx = _values[0]\n",
    "    mi = _values[0]\n",
    "for i in _values:\n",
    "    if i > mx:\n",
    "        mx = i\n",
    "    if i < mi:\n",
    "        mi = i\n",
    "\n",
    "print(mx)\n",
    "print(mi)"
   ]
  },
  {
   "cell_type": "code",
   "execution_count": null,
   "metadata": {},
   "outputs": [
    {
     "name": "stdout",
     "output_type": "stream",
     "text": [
      "d\n",
      "v\n",
      "j\n",
      "d\n",
      "j\n",
      "s\n",
      "d\n",
      "s\n",
      "k\n",
      "h\n",
      "j\n",
      "h\n",
      "j\n",
      "h\n",
      "a\n",
      "s\n",
      "j\n"
     ]
    }
   ],
   "source": [
    "# 7\n",
    "text = \"dvjdjsdskhjhjhasj\"\n",
    "dic = {}\n",
    "for char in text:\n",
    "    print(char)"
   ]
  }
 ],
 "metadata": {
  "kernelspec": {
   "display_name": "Python 3",
   "language": "python",
   "name": "python3"
  },
  "language_info": {
   "codemirror_mode": {
    "name": "ipython",
    "version": 3
   },
   "file_extension": ".py",
   "mimetype": "text/x-python",
   "name": "python",
   "nbconvert_exporter": "python",
   "pygments_lexer": "ipython3",
   "version": "3.10.11"
  }
 },
 "nbformat": 4,
 "nbformat_minor": 2
}
