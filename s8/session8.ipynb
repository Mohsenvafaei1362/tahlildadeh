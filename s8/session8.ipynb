{
 "cells": [
  {
   "cell_type": "code",
   "execution_count": null,
   "metadata": {},
   "outputs": [],
   "source": [
    "#1\n",
    "def myfun(d):\n",
    "    max_length = 0\n",
    "    lengths = []\n",
    "    for item in d:\n",
    "        item_length = len(str(item))\n",
    "        if item_length >= max_length:\n",
    "            lengths.append(item_length)\n",
    "            max_length = item_length\n",
    "    return max(lengths)"
   ]
  },
  {
   "cell_type": "code",
   "execution_count": 90,
   "metadata": {},
   "outputs": [
    {
     "name": "stdout",
     "output_type": "stream",
     "text": [
      "6\n"
     ]
    }
   ],
   "source": [
    "my_list = [1, \"hello\", 123, \"world\", \"python\"]\n",
    "result = myfun(my_list)\n",
    "print(result)"
   ]
  },
  {
   "cell_type": "code",
   "execution_count": null,
   "metadata": {},
   "outputs": [
    {
     "name": "stdout",
     "output_type": "stream",
     "text": [
      "good\n",
      "2\n",
      "گواهینامه شما باطل شد\n",
      "13\n"
     ]
    }
   ],
   "source": [
    "#2\n",
    "\n",
    "def check_speed(speed):\n",
    "    if speed < 70:\n",
    "        return \"good\"\n",
    "    else:\n",
    "        excess = speed - 70\n",
    "        penalty_points = excess // 5\n",
    "        if penalty_points > 12:\n",
    "            print(\"گواهینامه شما باطل شد\")\n",
    "        return penalty_points\n",
    "\n",
    "# مثالها:\n",
    "print(check_speed(60))   # خروجی: good\n",
    "print(check_speed(80))   # خروجی: 2\n",
    "print(check_speed(135))  # خروجی: گواهینامه شما باطل شد\n"
   ]
  },
  {
   "cell_type": "code",
   "execution_count": 1,
   "metadata": {},
   "outputs": [
    {
     "name": "stdout",
     "output_type": "stream",
     "text": [
      "5.0\n"
     ]
    }
   ],
   "source": [
    "#3\n",
    "import math\n",
    "\n",
    "def euclidean_distance(a, b):\n",
    "    return math.sqrt((a[0] - b[0])**2 + (a[1] - b[1])**2)\n",
    "\n",
    "# مثال\n",
    "a = (1, 2)\n",
    "b = (4, 6)\n",
    "print(euclidean_distance(a, b))  # خروجی: 5.0"
   ]
  },
  {
   "cell_type": "code",
   "execution_count": 2,
   "metadata": {},
   "outputs": [
    {
     "name": "stdout",
     "output_type": "stream",
     "text": [
      "True\n"
     ]
    }
   ],
   "source": [
    "#4\n",
    "def are_collinear(p1, p2, p3):\n",
    "    return (p2[1] - p1[1]) * (p3[0] - p2[0]) == (p3[1] - p2[1]) * (p2[0] - p1[0])\n",
    "\n",
    "# مثال\n",
    "p1 = (1, 2)\n",
    "p2 = (3, 4)\n",
    "p3 = (5, 6)\n",
    "print(are_collinear(p1, p2, p3))  # خروجی: True"
   ]
  }
 ],
 "metadata": {
  "kernelspec": {
   "display_name": "Python 3",
   "language": "python",
   "name": "python3"
  },
  "language_info": {
   "codemirror_mode": {
    "name": "ipython",
    "version": 3
   },
   "file_extension": ".py",
   "mimetype": "text/x-python",
   "name": "python",
   "nbconvert_exporter": "python",
   "pygments_lexer": "ipython3",
   "version": "3.10.11"
  }
 },
 "nbformat": 4,
 "nbformat_minor": 2
}
