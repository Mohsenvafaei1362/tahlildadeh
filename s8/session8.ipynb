{
 "cells": [
  {
   "cell_type": "code",
   "execution_count": null,
   "metadata": {},
   "outputs": [],
   "source": [
    "#1\n",
    "def myfun(d):\n",
    "    max_length = 0\n",
    "    lengths = []\n",
    "    for item in d:\n",
    "        item_length = len(str(item))\n",
    "        if item_length >= max_length:\n",
    "            lengths.append(item_length)\n",
    "            max_length = item_length\n",
    "    return max(lengths)"
   ]
  },
  {
   "cell_type": "code",
   "execution_count": 90,
   "metadata": {},
   "outputs": [
    {
     "name": "stdout",
     "output_type": "stream",
     "text": [
      "6\n"
     ]
    }
   ],
   "source": [
    "my_list = [1, \"hello\", 123, \"world\", \"python\"]\n",
    "result = myfun(my_list)\n",
    "print(result)"
   ]
  },
  {
   "cell_type": "code",
   "execution_count": 91,
   "metadata": {},
   "outputs": [
    {
     "name": "stdout",
     "output_type": "stream",
     "text": [
      "good\n",
      "2\n",
      "گواهینامه شما باطل شد\n",
      "13\n"
     ]
    }
   ],
   "source": [
    "#2\n",
    "\n",
    "def check_speed(speed):\n",
    "    if speed < 70:\n",
    "        return \"good\"\n",
    "    else:\n",
    "        excess = speed - 70\n",
    "        penalty_points = excess // 5\n",
    "        if penalty_points > 12:\n",
    "            print(\"گواهینامه شما باطل شد\")\n",
    "        return penalty_points\n",
    "\n",
    "# مثالها:\n",
    "print(check_speed(60))   # خروجی: good\n",
    "print(check_speed(80))   # خروجی: 2\n",
    "print(check_speed(135))  # خروجی: گواهینامه شما باطل شد \\n 13\n",
    "\n"
   ]
  }
 ],
 "metadata": {
  "kernelspec": {
   "display_name": "Python 3",
   "language": "python",
   "name": "python3"
  },
  "language_info": {
   "codemirror_mode": {
    "name": "ipython",
    "version": 3
   },
   "file_extension": ".py",
   "mimetype": "text/x-python",
   "name": "python",
   "nbconvert_exporter": "python",
   "pygments_lexer": "ipython3",
   "version": "3.10.11"
  }
 },
 "nbformat": 4,
 "nbformat_minor": 2
}
