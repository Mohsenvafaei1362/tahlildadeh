{
 "cells": [
  {
   "cell_type": "code",
   "execution_count": 51,
   "metadata": {},
   "outputs": [
    {
     "name": "stdout",
     "output_type": "stream",
     "text": [
      "300\n"
     ]
    }
   ],
   "source": [
    "# 7\n",
    "count = 1\n",
    "num = 1\n",
    "for count in range(10):\n",
    "    number = int(input(\"please enter number...\"))\n",
    "    num = number * num\n",
    "    count += 1\n",
    "print(num)"
   ]
  },
  {
   "cell_type": "code",
   "execution_count": null,
   "metadata": {},
   "outputs": [
    {
     "name": "stdout",
     "output_type": "stream",
     "text": [
      "45\n"
     ]
    }
   ],
   "source": [
    "# 6\n",
    "number = int(input(\"please enter number...\"))\n",
    "mult = 0\n",
    "odd = 0\n",
    "for count in range(0, number + 1):\n",
    "    if count % 2 != 0:\n",
    "        odd += count\n",
    "    if count % 5 == 0:\n",
    "        mult += count\n",
    "print(mult * odd)"
   ]
  },
  {
   "cell_type": "code",
   "execution_count": 53,
   "metadata": {},
   "outputs": [
    {
     "name": "stdout",
     "output_type": "stream",
     "text": [
      "784\n",
      "kjhk\n"
     ]
    }
   ],
   "source": [
    "# 5\n",
    "text = input(\"please enter char...\")\n",
    "numbers = \"\"\n",
    "letters = \"\"\n",
    "for char in text:\n",
    "    if char.isdigit():\n",
    "        numbers += char\n",
    "    else:\n",
    "        letters += char\n",
    "print(numbers)\n",
    "print(letters)"
   ]
  },
  {
   "cell_type": "code",
   "execution_count": 59,
   "metadata": {},
   "outputs": [
    {
     "name": "stdout",
     "output_type": "stream",
     "text": [
      "6\n"
     ]
    }
   ],
   "source": [
    "# 4\n",
    "number = int(input(\"please enter number...\"))\n",
    "result = 1\n",
    "for count in range(1, number + 1):\n",
    "    result *= count\n",
    "print(result)"
   ]
  },
  {
   "cell_type": "code",
   "execution_count": 62,
   "metadata": {},
   "outputs": [
    {
     "name": "stdout",
     "output_type": "stream",
     "text": [
      "5.5\n"
     ]
    }
   ],
   "source": [
    "# 3\n",
    "number = int(input(\"please enter number...\"))\n",
    "_sum = 0\n",
    "_avr = 0\n",
    "_len = 0\n",
    "for count in range(0, number + 1):\n",
    "    _sum += count\n",
    "    _len = count\n",
    "_avr = _sum / _len\n",
    "print(_avr)"
   ]
  },
  {
   "cell_type": "code",
   "execution_count": 50,
   "metadata": {},
   "outputs": [
    {
     "name": "stdout",
     "output_type": "stream",
     "text": [
      "ih\n"
     ]
    }
   ],
   "source": [
    "# 2\n",
    "text = input(\"please enter name...\")\n",
    "rev = text[::-1]\n",
    "print(rev)"
   ]
  },
  {
   "cell_type": "code",
   "execution_count": 48,
   "metadata": {},
   "outputs": [
    {
     "name": "stdout",
     "output_type": "stream",
     "text": [
      "سال 1403: وزن شما در کره ماه -> 13.20 کیلوگرم\n",
      "سال 1404: وزن شما در کره ماه -> 13.37 کیلوگرم\n",
      "سال 1405: وزن شما در کره ماه -> 13.53 کیلوگرم\n",
      "سال 1406: وزن شما در کره ماه -> 13.70 کیلوگرم\n",
      "سال 1407: وزن شما در کره ماه -> 13.86 کیلوگرم\n",
      "سال 1408: وزن شما در کره ماه -> 14.03 کیلوگرم\n",
      "سال 1409: وزن شما در کره ماه -> 14.19 کیلوگرم\n",
      "سال 1410: وزن شما در کره ماه -> 14.36 کیلوگرم\n",
      "سال 1411: وزن شما در کره ماه -> 14.52 کیلوگرم\n",
      "سال 1412: وزن شما در کره ماه -> 14.69 کیلوگرم\n",
      "سال 1413: وزن شما در کره ماه -> 14.85 کیلوگرم\n",
      "سال 1414: وزن شما در کره ماه -> 15.02 کیلوگرم\n",
      "سال 1415: وزن شما در کره ماه -> 15.18 کیلوگرم\n",
      "سال 1416: وزن شما در کره ماه -> 15.35 کیلوگرم\n",
      "سال 1417: وزن شما در کره ماه -> 15.51 کیلوگرم\n",
      "سال 1418: وزن شما در کره ماه -> 15.68 کیلوگرم\n"
     ]
    }
   ],
   "source": [
    "# 1\n",
    "import jdatetime\n",
    "\n",
    "current_date = jdatetime.datetime.now()\n",
    "\n",
    "weight_earth = 80\n",
    "\n",
    "weight_moon_coefficient = 0.165\n",
    "\n",
    "years = 15\n",
    "\n",
    "for count in range(years + 1):\n",
    "    weight_moon = weight_earth * weight_moon_coefficient\n",
    "    \n",
    "    print(f\"سال {current_date.year}: وزن شما در کره ماه -> {weight_moon:.2f} کیلوگرم\")\n",
    "    \n",
    "    weight_earth += 1\n",
    "    \n",
    "    current_date = current_date.replace(year=current_date.year + 1)"
   ]
  }
 ],
 "metadata": {
  "kernelspec": {
   "display_name": "Python 3",
   "language": "python",
   "name": "python3"
  },
  "language_info": {
   "codemirror_mode": {
    "name": "ipython",
    "version": 3
   },
   "file_extension": ".py",
   "mimetype": "text/x-python",
   "name": "python",
   "nbconvert_exporter": "python",
   "pygments_lexer": "ipython3",
   "version": "3.10.11"
  }
 },
 "nbformat": 4,
 "nbformat_minor": 2
}
